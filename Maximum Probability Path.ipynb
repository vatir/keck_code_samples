{
 "cells": [
  {
   "cell_type": "markdown",
   "id": "c5b82d3f-8401-44ee-bd5d-3f3dde40d0a7",
   "metadata": {
    "execution": {
     "iopub.execute_input": "2024-10-13T20:53:55.950685Z",
     "iopub.status.busy": "2024-10-13T20:53:55.950116Z",
     "iopub.status.idle": "2024-10-13T20:53:55.957604Z",
     "shell.execute_reply": "2024-10-13T20:53:55.955872Z",
     "shell.execute_reply.started": "2024-10-13T20:53:55.950639Z"
    }
   },
   "source": [
    "#### Proxy Function that tracks calls made"
   ]
  },
  {
   "cell_type": "code",
   "execution_count": 1,
   "id": "0a2a3404-107f-4541-979d-a1d2c8c63fa3",
   "metadata": {
    "execution": {
     "iopub.execute_input": "2024-10-14T00:41:23.815884Z",
     "iopub.status.busy": "2024-10-14T00:41:23.815260Z",
     "iopub.status.idle": "2024-10-14T00:41:23.835152Z",
     "shell.execute_reply": "2024-10-14T00:41:23.834144Z",
     "shell.execute_reply.started": "2024-10-14T00:41:23.815834Z"
    },
    "tags": []
   },
   "outputs": [],
   "source": [
    "from typing import List\n",
    "\n",
    "class proxy:\n",
    "    def __init__(self, edges: List[List[int]], succProb: List[float]):\n",
    "        self.callCount = 0\n",
    "        self.links = {}\n",
    "        [\n",
    "            self.links.setdefault(edges[i][0],[]).append((edges[i][1],succProb[i])) or \\\n",
    "            self.links.setdefault(edges[i][1],[]).append((edges[i][0],succProb[i])) \\\n",
    "            for i in range(len(edges))\n",
    "        ]\n",
    "        \n",
    "    def resetCount(self):\n",
    "        self.callCount = 0\n",
    "        \n",
    "    def neighboors(self, node: int) -> List[int]:\n",
    "        self.callCount += 1\n",
    "        return self.links.get(node,[])"
   ]
  },
  {
   "cell_type": "markdown",
   "id": "1abbdcb8-ef19-43ea-ad48-11107d3c6092",
   "metadata": {
    "execution": {
     "iopub.execute_input": "2024-10-13T20:54:32.239039Z",
     "iopub.status.busy": "2024-10-13T20:54:32.238471Z",
     "iopub.status.idle": "2024-10-13T20:54:32.245064Z",
     "shell.execute_reply": "2024-10-13T20:54:32.243624Z",
     "shell.execute_reply.started": "2024-10-13T20:54:32.238991Z"
    }
   },
   "source": [
    "#### Function using Dijkstra's algorithm to determine the maximum probability between starting and ending node"
   ]
  },
  {
   "cell_type": "code",
   "execution_count": 2,
   "id": "00f963a4-4ed1-4340-bad3-635cda40031e",
   "metadata": {
    "execution": {
     "iopub.execute_input": "2024-10-14T00:41:23.836715Z",
     "iopub.status.busy": "2024-10-14T00:41:23.836299Z",
     "iopub.status.idle": "2024-10-14T00:41:23.862511Z",
     "shell.execute_reply": "2024-10-14T00:41:23.861201Z",
     "shell.execute_reply.started": "2024-10-14T00:41:23.836684Z"
    },
    "tags": []
   },
   "outputs": [],
   "source": [
    "from typing import List, Callable\n",
    "\n",
    "from heapq import heappush, heappop\n",
    "def maxProbability(startNode: int, endNode: int, neighboors: Callable[[int],float]) -> [float, List]:\n",
    "    probability = {startNode:1.0}\n",
    "    \n",
    "    # Inverting all probabilities used in the heap, as heapq is only a min priority queue and we want a max\n",
    "    frontier = [(-2.0, [startNode])]\n",
    "    while len(frontier) > 0:\n",
    "        path = heappop(frontier)[1]\n",
    "        current = path[-1]\n",
    "        \n",
    "        if current == endNode:\n",
    "            return probability[endNode], path\n",
    "\n",
    "        for entity in neighboors(current):\n",
    "            stepProbability = probability.get(current, 0.0)*entity[1]\n",
    "            if stepProbability > probability.get(entity[0], 0.0):\n",
    "                probability[entity[0]] = stepProbability\n",
    "                path.append(entity[0])\n",
    "                heappush(frontier, (-1*stepProbability, path.copy()))\n",
    "                \n",
    "    return 0.0, []"
   ]
  },
  {
   "cell_type": "markdown",
   "id": "108cdb98-59f2-4eba-8e44-e037f0bb884f",
   "metadata": {
    "execution": {
     "iopub.execute_input": "2024-10-13T20:56:13.511931Z",
     "iopub.status.busy": "2024-10-13T20:56:13.511338Z",
     "iopub.status.idle": "2024-10-13T20:56:13.517632Z",
     "shell.execute_reply": "2024-10-13T20:56:13.516407Z",
     "shell.execute_reply.started": "2024-10-13T20:56:13.511883Z"
    }
   },
   "source": [
    "#### Run a simple test case"
   ]
  },
  {
   "cell_type": "code",
   "execution_count": 3,
   "id": "84de3494-d5fd-4d6c-94c8-cb0ad804f915",
   "metadata": {
    "execution": {
     "iopub.execute_input": "2024-10-14T00:41:23.864639Z",
     "iopub.status.busy": "2024-10-14T00:41:23.864177Z",
     "iopub.status.idle": "2024-10-14T00:41:23.877426Z",
     "shell.execute_reply": "2024-10-14T00:41:23.876238Z",
     "shell.execute_reply.started": "2024-10-14T00:41:23.864591Z"
    },
    "tags": []
   },
   "outputs": [],
   "source": [
    "edges = [[0,1],[1,2],[0,2]]\n",
    "successProbability = [0.5,0.5,0.2]\n",
    "startNode = 0\n",
    "endNode = 2\n",
    "expected = 0.25\n",
    "functionProxy = proxy(edges, successProbability)"
   ]
  },
  {
   "cell_type": "code",
   "execution_count": 4,
   "id": "808b7ae2-aec1-4d9d-b101-84118434ec66",
   "metadata": {
    "execution": {
     "iopub.execute_input": "2024-10-14T00:41:23.879647Z",
     "iopub.status.busy": "2024-10-14T00:41:23.879014Z",
     "iopub.status.idle": "2024-10-14T00:41:23.893860Z",
     "shell.execute_reply": "2024-10-14T00:41:23.892458Z",
     "shell.execute_reply.started": "2024-10-14T00:41:23.879597Z"
    },
    "tags": []
   },
   "outputs": [
    {
     "name": "stdout",
     "output_type": "stream",
     "text": [
      "Function Call Count: 2\n",
      "Valid: True\n",
      "Expected: 0.25 : Returned: 0.25\n",
      "[0, 1, 2]\n",
      "CPU times: user 272 μs, sys: 77 μs, total: 349 μs\n",
      "Wall time: 301 μs\n"
     ]
    }
   ],
   "source": [
    "%%time\n",
    "functionProxy.callCount = 0\n",
    "probability, path = maxProbability(startNode, endNode, functionProxy.neighboors)\n",
    "print(f\"Function Call Count: {functionProxy.callCount}\")\n",
    "print(f\"Valid: {expected == probability}\")\n",
    "print(f\"Expected: {expected} : Returned: {probability}\")\n",
    "print(path)"
   ]
  },
  {
   "cell_type": "markdown",
   "id": "2ab5e7f8-fd3e-4fc3-bcf6-08613f1cf588",
   "metadata": {},
   "source": [
    "#### Create a random large graph with valid properties"
   ]
  },
  {
   "cell_type": "code",
   "execution_count": 5,
   "id": "e3dc171d-0d2e-47ab-8aa5-370219ba4338",
   "metadata": {
    "execution": {
     "iopub.execute_input": "2024-10-14T00:41:23.896106Z",
     "iopub.status.busy": "2024-10-14T00:41:23.895478Z",
     "iopub.status.idle": "2024-10-14T00:41:24.027921Z",
     "shell.execute_reply": "2024-10-14T00:41:24.027066Z",
     "shell.execute_reply.started": "2024-10-14T00:41:23.896060Z"
    }
   },
   "outputs": [],
   "source": [
    "import networkx as nx\n",
    "from random import sample, random\n",
    "def randomGraph(edges, nodes):\n",
    "    randomGraph = nx.gnm_random_graph(edges, nodes, seed=646846841651)\n",
    "    components = sorted(nx.connected_components(randomGraph), key=len, reverse=True)\n",
    "    randomGraph = randomGraph.subgraph(components[0])\n",
    "    successProbability = [random() for _ in range(randomGraph.number_of_edges())]\n",
    "    startNode, endNode = sample(list(randomGraph.nodes),2)\n",
    "    return startNode, endNode, randomGraph, successProbability"
   ]
  },
  {
   "cell_type": "code",
   "execution_count": 6,
   "id": "113ce41b-06b1-4bf1-9d9c-afc7bbbfe36d",
   "metadata": {
    "execution": {
     "iopub.execute_input": "2024-10-14T00:41:24.029930Z",
     "iopub.status.busy": "2024-10-14T00:41:24.029710Z",
     "iopub.status.idle": "2024-10-14T00:41:24.077002Z",
     "shell.execute_reply": "2024-10-14T00:41:24.076426Z",
     "shell.execute_reply.started": "2024-10-14T00:41:24.029914Z"
    }
   },
   "outputs": [],
   "source": [
    "startNode, endNode, currentGraph, successProbability = randomGraph(10**2, 10**4)\n",
    "functionProxy = proxy(list(currentGraph.edges), successProbability)"
   ]
  },
  {
   "cell_type": "markdown",
   "id": "8c065c88-1dfa-4ebc-a3a3-0d91a5ebf2bd",
   "metadata": {
    "execution": {
     "iopub.execute_input": "2024-10-13T21:38:37.287177Z",
     "iopub.status.busy": "2024-10-13T21:38:37.286646Z",
     "iopub.status.idle": "2024-10-13T21:38:37.462949Z",
     "shell.execute_reply": "2024-10-13T21:38:37.462351Z",
     "shell.execute_reply.started": "2024-10-13T21:38:37.287130Z"
    }
   },
   "source": [
    "#### Run the larger random case"
   ]
  },
  {
   "cell_type": "code",
   "execution_count": 7,
   "id": "d2f46169-84c3-4cd6-9a35-5ddc0c8dfacb",
   "metadata": {
    "execution": {
     "iopub.execute_input": "2024-10-14T00:41:24.077744Z",
     "iopub.status.busy": "2024-10-14T00:41:24.077592Z",
     "iopub.status.idle": "2024-10-14T00:41:24.102821Z",
     "shell.execute_reply": "2024-10-14T00:41:24.101684Z",
     "shell.execute_reply.started": "2024-10-14T00:41:24.077729Z"
    }
   },
   "outputs": [
    {
     "name": "stdout",
     "output_type": "stream",
     "text": [
      "Function Call Count: 53\n",
      "Returned: 0.9436\n",
      "Path length: 31\n",
      "CPU times: user 1.47 ms, sys: 389 μs, total: 1.86 ms\n",
      "Wall time: 1.83 ms\n"
     ]
    }
   ],
   "source": [
    "%%time\n",
    "functionProxy.callCount = 0\n",
    "probability, path = maxProbability(startNode, endNode, functionProxy.neighboors)\n",
    "print(f\"Function Call Count: {functionProxy.callCount:,}\")\n",
    "print(f\"Returned: {probability:.4f}\")\n",
    "print(f\"Path length: {len(path)}\")"
   ]
  },
  {
   "cell_type": "markdown",
   "id": "419381ab-a50e-47ab-a8ed-241222318112",
   "metadata": {},
   "source": [
    "#### Check some basic line profiliing to ensure there are no unexpected hotspots"
   ]
  },
  {
   "cell_type": "raw",
   "id": "4b07b4e3-2399-47b6-9117-5c0475dd6a35",
   "metadata": {
    "scrolled": true
   },
   "source": [
    "!pip3 install line_profiler"
   ]
  },
  {
   "cell_type": "code",
   "execution_count": 8,
   "id": "571a2f21-4829-4b61-9171-fd2aa36e4127",
   "metadata": {
    "execution": {
     "iopub.execute_input": "2024-10-14T00:41:24.104988Z",
     "iopub.status.busy": "2024-10-14T00:41:24.104264Z",
     "iopub.status.idle": "2024-10-14T00:41:24.119788Z",
     "shell.execute_reply": "2024-10-14T00:41:24.118624Z",
     "shell.execute_reply.started": "2024-10-14T00:41:24.104938Z"
    },
    "tags": []
   },
   "outputs": [],
   "source": [
    "%load_ext line_profiler"
   ]
  },
  {
   "cell_type": "code",
   "execution_count": 9,
   "id": "4e199203-6f73-4054-9b38-749d1cbc02f2",
   "metadata": {
    "execution": {
     "iopub.execute_input": "2024-10-14T00:41:24.121736Z",
     "iopub.status.busy": "2024-10-14T00:41:24.121287Z",
     "iopub.status.idle": "2024-10-14T00:41:24.152423Z",
     "shell.execute_reply": "2024-10-14T00:41:24.151385Z",
     "shell.execute_reply.started": "2024-10-14T00:41:24.121689Z"
    },
    "tags": []
   },
   "outputs": [
    {
     "data": {
      "text/plain": [
       "Timer unit: 1e-09 s\n",
       "\n",
       "Total time: 0.0126095 s\n",
       "File: /tmp/ipykernel_5410/106252738.py\n",
       "Function: maxProbability at line 4\n",
       "\n",
       "Line #      Hits         Time  Per Hit   % Time  Line Contents\n",
       "==============================================================\n",
       "     4                                           def maxProbability(startNode: int, endNode: int, neighboors: Callable[[int],float]) -> [float, List]:\n",
       "     5         1       2734.0   2734.0      0.0      probability = {startNode:1.0}\n",
       "     6                                               \n",
       "     7                                               # Inverting all probabilities used in the heap, as heapq is only a min priority queue and we want a max\n",
       "     8         1       1465.0   1465.0      0.0      frontier = [(-2.0, [startNode])]\n",
       "     9        54      43971.0    814.3      0.3      while len(frontier) > 0:\n",
       "    10        54      92601.0   1714.8      0.7          path = heappop(frontier)[1]\n",
       "    11        54      22874.0    423.6      0.2          current = path[-1]\n",
       "    12                                                   \n",
       "    13        54      23560.0    436.3      0.2          if current == endNode:\n",
       "    14         1        581.0    581.0      0.0              return probability[endNode], path\n",
       "    15                                           \n",
       "    16      5300    2339175.0    441.4     18.6          for entity in neighboors(current):\n",
       "    17      5247    4042202.0    770.4     32.1              stepProbability = probability.get(current, 0.0)*entity[1]\n",
       "    18      5247    4055756.0    773.0     32.2              if stepProbability > probability.get(entity[0], 0.0):\n",
       "    19       379     275991.0    728.2      2.2                  probability[entity[0]] = stepProbability\n",
       "    20       379     369278.0    974.3      2.9                  path.append(entity[0])\n",
       "    21       379    1339347.0   3533.9     10.6                  heappush(frontier, (-1*stepProbability, path.copy()))\n",
       "    22                                                           \n",
       "    23                                               return 0.0, []"
      ]
     },
     "metadata": {},
     "output_type": "display_data"
    }
   ],
   "source": [
    "%lprun -f maxProbability maxProbability(startNode, endNode, functionProxy.neighboors)"
   ]
  },
  {
   "cell_type": "markdown",
   "id": "43be8886-69f5-4604-a550-4c4398aecf76",
   "metadata": {
    "execution": {
     "iopub.execute_input": "2024-10-13T21:38:37.287177Z",
     "iopub.status.busy": "2024-10-13T21:38:37.286646Z",
     "iopub.status.idle": "2024-10-13T21:38:37.462949Z",
     "shell.execute_reply": "2024-10-13T21:38:37.462351Z",
     "shell.execute_reply.started": "2024-10-13T21:38:37.287130Z"
    }
   },
   "source": [
    "#### Confirm the function calls are scalling roughly as expected."
   ]
  },
  {
   "cell_type": "code",
   "execution_count": 23,
   "id": "8b2ea2c2-e5ca-4153-8820-2773d6c4253b",
   "metadata": {
    "execution": {
     "iopub.execute_input": "2024-10-14T00:48:55.042124Z",
     "iopub.status.busy": "2024-10-14T00:48:55.041548Z",
     "iopub.status.idle": "2024-10-14T00:48:55.049838Z",
     "shell.execute_reply": "2024-10-14T00:48:55.048598Z",
     "shell.execute_reply.started": "2024-10-14T00:48:55.042072Z"
    }
   },
   "outputs": [],
   "source": [
    "def funcCallCount(nodeCount, edgeCount):\n",
    "    startNode, endNode, currentGraph, successProbability = randomGraph(nodeCount, edgeCount)\n",
    "    functionProxy = proxy(list(currentGraph.edges), successProbability)\n",
    "    probability, path = maxProbability(startNode, endNode, functionProxy.neighboors)\n",
    "    return functionProxy.callCount"
   ]
  },
  {
   "cell_type": "code",
   "execution_count": 24,
   "id": "1595a280-6b0c-41a7-8fc6-6eaf0d9034e1",
   "metadata": {
    "execution": {
     "iopub.execute_input": "2024-10-14T00:48:55.343777Z",
     "iopub.status.busy": "2024-10-14T00:48:55.343248Z",
     "iopub.status.idle": "2024-10-14T00:53:22.132222Z",
     "shell.execute_reply": "2024-10-14T00:53:22.130541Z",
     "shell.execute_reply.started": "2024-10-14T00:48:55.343730Z"
    }
   },
   "outputs": [],
   "source": [
    "import numpy as np\n",
    "nodeCounts = np.logspace(2,5,10)\n",
    "\n",
    "fC = []\n",
    "for nC in nodeCounts:\n",
    "    fC.append(funcCallCount(int(nC), int(nC)*150))"
   ]
  },
  {
   "cell_type": "markdown",
   "id": "37ebab83-8c1e-4656-985e-eb8b898f1034",
   "metadata": {
    "execution": {
     "iopub.execute_input": "2024-10-13T21:38:37.287177Z",
     "iopub.status.busy": "2024-10-13T21:38:37.286646Z",
     "iopub.status.idle": "2024-10-13T21:38:37.462949Z",
     "shell.execute_reply": "2024-10-13T21:38:37.462351Z",
     "shell.execute_reply.started": "2024-10-13T21:38:37.287130Z"
    }
   },
   "source": [
    "#### Graphs are random, monotonic scaling is not expected. This is a quick check, not an exhaustive analysis."
   ]
  },
  {
   "cell_type": "code",
   "execution_count": 26,
   "id": "7664567a-ffc8-4774-a80f-2abdaa19c255",
   "metadata": {
    "execution": {
     "iopub.execute_input": "2024-10-14T00:55:23.097055Z",
     "iopub.status.busy": "2024-10-14T00:55:23.095838Z",
     "iopub.status.idle": "2024-10-14T00:55:23.104814Z",
     "shell.execute_reply": "2024-10-14T00:55:23.103333Z",
     "shell.execute_reply.started": "2024-10-14T00:55:23.097000Z"
    }
   },
   "outputs": [
    {
     "name": "stdout",
     "output_type": "stream",
     "text": [
      "Node Counts : Function calls\n",
      "1e+02       :             87\n",
      "2e+02       :             98\n",
      "5e+02       :            378\n",
      "1e+03       :            282\n",
      "2e+03       :            420\n",
      "5e+03       :             73\n",
      "1e+04       :           3500\n",
      "2e+04       :          12632\n",
      "5e+04       :          31209\n",
      "1e+05       :         119807\n"
     ]
    }
   ],
   "source": [
    "print(\"Node Counts : Function calls\")\n",
    "for i in range(len(nodeCounts)):\n",
    "    print(f\"{nodeCounts[i]:.0}       : {fC[i]:14d}\")"
   ]
  },
  {
   "cell_type": "code",
   "execution_count": null,
   "id": "fdb90c2e-a3d4-4eae-a22e-06833810c867",
   "metadata": {},
   "outputs": [],
   "source": []
  }
 ],
 "metadata": {
  "kernelspec": {
   "display_name": "Python 3 (ipykernel)",
   "language": "python",
   "name": "python3"
  },
  "language_info": {
   "codemirror_mode": {
    "name": "ipython",
    "version": 3
   },
   "file_extension": ".py",
   "mimetype": "text/x-python",
   "name": "python",
   "nbconvert_exporter": "python",
   "pygments_lexer": "ipython3",
   "version": "3.11.9"
  }
 },
 "nbformat": 4,
 "nbformat_minor": 5
}
